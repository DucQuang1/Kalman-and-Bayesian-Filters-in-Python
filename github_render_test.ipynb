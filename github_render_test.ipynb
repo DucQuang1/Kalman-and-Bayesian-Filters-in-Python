{
 "cells": [
  {
   "cell_type": "markdown",
   "metadata": {},
   "source": [
    "this is a test no blank line after sentence.\n",
    "$$x=y\\\\q=g$$\n",
    "\n",
    "\n",
    "blacksquare test\n",
    "\n",
    "$$ \n",
    "\\begin{aligned}\n",
    "P &= (1-K)P \\\\\n",
    "&= (1-\\frac{P}{P+R})P \\\\\n",
    "&= (\\frac{P+R}{P+R}-\\frac{P}{P+R})P \\\\\n",
    "&= (\\frac{P+R-P}{P+R})P \\\\\n",
    "&= \\frac{RP}{P+R}\\\\\n",
    "&= \\frac{1}{\\frac{P+R}{RP}}\\\\\n",
    "&= \\frac{1}{\\frac{R}{RP} + \\frac{P}{RP}} \\\\\n",
    "&= \\frac{1}{\\frac{1}{P} + \\frac{1}{R}}\n",
    "\\quad\\blacksquare\n",
    "\\end{aligned}\n",
    "$$\n",
    "\n",
    "alignment\n",
    "\n",
    "$$\\begin{aligned}\n",
    "\\sigma_{i,j} &= \\mathrm{E}\\begin{bmatrix}(X_i - \\mu_i)(X_j - \\mu_j)\\end{bmatrix} \\\\ \n",
    "&= \\mathrm{E}\\begin{bmatrix} (X_j - \\mu_j)(X_i - \\mu_i)\\end{bmatrix} \\\\ \n",
    "&= \\sigma_{j,i}\n",
    "\\end{aligned}$$\n"
   ]
  }
 ],
 "metadata": {
  "kernelspec": {
   "display_name": "Python 3",
   "language": "python",
   "name": "python3"
  },
  "language_info": {
   "codemirror_mode": {
    "name": "ipython",
    "version": 3
   },
   "file_extension": ".py",
   "mimetype": "text/x-python",
   "name": "python",
   "nbconvert_exporter": "python",
   "pygments_lexer": "ipython3",
   "version": "3.4.3"
  }
 },
 "nbformat": 4,
 "nbformat_minor": 0
}
